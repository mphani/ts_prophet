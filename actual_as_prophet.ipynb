{
  "nbformat": 4,
  "nbformat_minor": 0,
  "metadata": {
    "colab": {
      "provenance": [],
      "authorship_tag": "ABX9TyPnoVcKQE/8wpAXwMIo53Ud",
      "include_colab_link": true
    },
    "kernelspec": {
      "name": "python3",
      "display_name": "Python 3"
    },
    "language_info": {
      "name": "python"
    }
  },
  "cells": [
    {
      "cell_type": "markdown",
      "metadata": {
        "id": "view-in-github",
        "colab_type": "text"
      },
      "source": [
        "<a href=\"https://colab.research.google.com/github/mphani/ts_prophet/blob/works/actual_as_prophet.ipynb\" target=\"_parent\"><img src=\"https://colab.research.google.com/assets/colab-badge.svg\" alt=\"Open In Colab\"/></a>"
      ]
    },
    {
      "cell_type": "code",
      "execution_count": 1,
      "metadata": {
        "id": "XVmHaKUvmQkQ"
      },
      "outputs": [],
      "source": [
        "import pandas as pd\n",
        "import seaborn as sns\n",
        "import numpy as np\n",
        "import matplotlib.pyplot as plt\n",
        "from tabulate import tabulate\n",
        "\n",
        "from prophet import Prophet\n",
        "from prophet.diagnostics import cross_validation\n",
        "from prophet.diagnostics import performance_metrics\n",
        "from sklearn.metrics import mean_absolute_error\n",
        "from sklearn.metrics import mean_absolute_percentage_error\n",
        "from prophet.plot import plot_plotly, plot_components_plotly\n",
        "\n",
        "from prophet.plot import add_changepoints_to_plot, plot_cross_validation_metric\n"
      ]
    },
    {
      "cell_type": "code",
      "source": [
        "G_FILENAME = \"sample_data/24122023_aerospike_stats.csv\""
      ],
      "metadata": {
        "id": "kl0RA3C7mfPX"
      },
      "execution_count": 2,
      "outputs": []
    },
    {
      "cell_type": "code",
      "source": [
        "original_df = pd.read_csv(G_FILENAME)\n",
        "original_df.head()"
      ],
      "metadata": {
        "id": "kujGaOo5mhaL",
        "colab": {
          "base_uri": "https://localhost:8080/",
          "height": 206
        },
        "outputId": "d6e5f92c-bc14-4fcf-f201-75c02b9156e7"
      },
      "execution_count": 3,
      "outputs": [
        {
          "output_type": "execute_result",
          "data": {
            "text/plain": [
              "  cluster_name              instance   ns               service  \\\n",
              "0         numa  192.168.200.239:9145  ssd  192.168.201.239:3000   \n",
              "1         numa  192.168.200.239:9145  ssd  192.168.201.239:3000   \n",
              "2         numa  192.168.200.239:9145  ssd  192.168.201.239:3000   \n",
              "3         numa  192.168.200.239:9145  ssd  192.168.201.239:3000   \n",
              "4         numa  192.168.200.239:9145  ssd  192.168.201.239:3000   \n",
              "\n",
              "                               metric_name sub_query_name  \\\n",
              "0  aerospike_namespace_client_read_success     rate_query   \n",
              "1  aerospike_namespace_client_read_success     rate_query   \n",
              "2  aerospike_namespace_client_read_success     rate_query   \n",
              "3  aerospike_namespace_client_read_success     rate_query   \n",
              "4  aerospike_namespace_client_read_success     rate_query   \n",
              "\n",
              "                                          prom_query  utc_date_time  \\\n",
              "0  rate(aerospike_namespace_client_read_success[1m])     1703010600   \n",
              "1  rate(aerospike_namespace_client_read_success[1m])     1703010660   \n",
              "2  rate(aerospike_namespace_client_read_success[1m])     1703010720   \n",
              "3  rate(aerospike_namespace_client_read_success[1m])     1703010780   \n",
              "4  rate(aerospike_namespace_client_read_success[1m])     1703010840   \n",
              "\n",
              "   metric_value  \n",
              "0   2882.088889  \n",
              "1   3006.044444  \n",
              "2   2960.888889  \n",
              "3   3010.822222  \n",
              "4   2992.222222  "
            ],
            "text/html": [
              "\n",
              "  <div id=\"df-7b03925e-0dd7-48e5-ba89-6075bdd5efd8\" class=\"colab-df-container\">\n",
              "    <div>\n",
              "<style scoped>\n",
              "    .dataframe tbody tr th:only-of-type {\n",
              "        vertical-align: middle;\n",
              "    }\n",
              "\n",
              "    .dataframe tbody tr th {\n",
              "        vertical-align: top;\n",
              "    }\n",
              "\n",
              "    .dataframe thead th {\n",
              "        text-align: right;\n",
              "    }\n",
              "</style>\n",
              "<table border=\"1\" class=\"dataframe\">\n",
              "  <thead>\n",
              "    <tr style=\"text-align: right;\">\n",
              "      <th></th>\n",
              "      <th>cluster_name</th>\n",
              "      <th>instance</th>\n",
              "      <th>ns</th>\n",
              "      <th>service</th>\n",
              "      <th>metric_name</th>\n",
              "      <th>sub_query_name</th>\n",
              "      <th>prom_query</th>\n",
              "      <th>utc_date_time</th>\n",
              "      <th>metric_value</th>\n",
              "    </tr>\n",
              "  </thead>\n",
              "  <tbody>\n",
              "    <tr>\n",
              "      <th>0</th>\n",
              "      <td>numa</td>\n",
              "      <td>192.168.200.239:9145</td>\n",
              "      <td>ssd</td>\n",
              "      <td>192.168.201.239:3000</td>\n",
              "      <td>aerospike_namespace_client_read_success</td>\n",
              "      <td>rate_query</td>\n",
              "      <td>rate(aerospike_namespace_client_read_success[1m])</td>\n",
              "      <td>1703010600</td>\n",
              "      <td>2882.088889</td>\n",
              "    </tr>\n",
              "    <tr>\n",
              "      <th>1</th>\n",
              "      <td>numa</td>\n",
              "      <td>192.168.200.239:9145</td>\n",
              "      <td>ssd</td>\n",
              "      <td>192.168.201.239:3000</td>\n",
              "      <td>aerospike_namespace_client_read_success</td>\n",
              "      <td>rate_query</td>\n",
              "      <td>rate(aerospike_namespace_client_read_success[1m])</td>\n",
              "      <td>1703010660</td>\n",
              "      <td>3006.044444</td>\n",
              "    </tr>\n",
              "    <tr>\n",
              "      <th>2</th>\n",
              "      <td>numa</td>\n",
              "      <td>192.168.200.239:9145</td>\n",
              "      <td>ssd</td>\n",
              "      <td>192.168.201.239:3000</td>\n",
              "      <td>aerospike_namespace_client_read_success</td>\n",
              "      <td>rate_query</td>\n",
              "      <td>rate(aerospike_namespace_client_read_success[1m])</td>\n",
              "      <td>1703010720</td>\n",
              "      <td>2960.888889</td>\n",
              "    </tr>\n",
              "    <tr>\n",
              "      <th>3</th>\n",
              "      <td>numa</td>\n",
              "      <td>192.168.200.239:9145</td>\n",
              "      <td>ssd</td>\n",
              "      <td>192.168.201.239:3000</td>\n",
              "      <td>aerospike_namespace_client_read_success</td>\n",
              "      <td>rate_query</td>\n",
              "      <td>rate(aerospike_namespace_client_read_success[1m])</td>\n",
              "      <td>1703010780</td>\n",
              "      <td>3010.822222</td>\n",
              "    </tr>\n",
              "    <tr>\n",
              "      <th>4</th>\n",
              "      <td>numa</td>\n",
              "      <td>192.168.200.239:9145</td>\n",
              "      <td>ssd</td>\n",
              "      <td>192.168.201.239:3000</td>\n",
              "      <td>aerospike_namespace_client_read_success</td>\n",
              "      <td>rate_query</td>\n",
              "      <td>rate(aerospike_namespace_client_read_success[1m])</td>\n",
              "      <td>1703010840</td>\n",
              "      <td>2992.222222</td>\n",
              "    </tr>\n",
              "  </tbody>\n",
              "</table>\n",
              "</div>\n",
              "    <div class=\"colab-df-buttons\">\n",
              "\n",
              "  <div class=\"colab-df-container\">\n",
              "    <button class=\"colab-df-convert\" onclick=\"convertToInteractive('df-7b03925e-0dd7-48e5-ba89-6075bdd5efd8')\"\n",
              "            title=\"Convert this dataframe to an interactive table.\"\n",
              "            style=\"display:none;\">\n",
              "\n",
              "  <svg xmlns=\"http://www.w3.org/2000/svg\" height=\"24px\" viewBox=\"0 -960 960 960\">\n",
              "    <path d=\"M120-120v-720h720v720H120Zm60-500h600v-160H180v160Zm220 220h160v-160H400v160Zm0 220h160v-160H400v160ZM180-400h160v-160H180v160Zm440 0h160v-160H620v160ZM180-180h160v-160H180v160Zm440 0h160v-160H620v160Z\"/>\n",
              "  </svg>\n",
              "    </button>\n",
              "\n",
              "  <style>\n",
              "    .colab-df-container {\n",
              "      display:flex;\n",
              "      gap: 12px;\n",
              "    }\n",
              "\n",
              "    .colab-df-convert {\n",
              "      background-color: #E8F0FE;\n",
              "      border: none;\n",
              "      border-radius: 50%;\n",
              "      cursor: pointer;\n",
              "      display: none;\n",
              "      fill: #1967D2;\n",
              "      height: 32px;\n",
              "      padding: 0 0 0 0;\n",
              "      width: 32px;\n",
              "    }\n",
              "\n",
              "    .colab-df-convert:hover {\n",
              "      background-color: #E2EBFA;\n",
              "      box-shadow: 0px 1px 2px rgba(60, 64, 67, 0.3), 0px 1px 3px 1px rgba(60, 64, 67, 0.15);\n",
              "      fill: #174EA6;\n",
              "    }\n",
              "\n",
              "    .colab-df-buttons div {\n",
              "      margin-bottom: 4px;\n",
              "    }\n",
              "\n",
              "    [theme=dark] .colab-df-convert {\n",
              "      background-color: #3B4455;\n",
              "      fill: #D2E3FC;\n",
              "    }\n",
              "\n",
              "    [theme=dark] .colab-df-convert:hover {\n",
              "      background-color: #434B5C;\n",
              "      box-shadow: 0px 1px 3px 1px rgba(0, 0, 0, 0.15);\n",
              "      filter: drop-shadow(0px 1px 2px rgba(0, 0, 0, 0.3));\n",
              "      fill: #FFFFFF;\n",
              "    }\n",
              "  </style>\n",
              "\n",
              "    <script>\n",
              "      const buttonEl =\n",
              "        document.querySelector('#df-7b03925e-0dd7-48e5-ba89-6075bdd5efd8 button.colab-df-convert');\n",
              "      buttonEl.style.display =\n",
              "        google.colab.kernel.accessAllowed ? 'block' : 'none';\n",
              "\n",
              "      async function convertToInteractive(key) {\n",
              "        const element = document.querySelector('#df-7b03925e-0dd7-48e5-ba89-6075bdd5efd8');\n",
              "        const dataTable =\n",
              "          await google.colab.kernel.invokeFunction('convertToInteractive',\n",
              "                                                    [key], {});\n",
              "        if (!dataTable) return;\n",
              "\n",
              "        const docLinkHtml = 'Like what you see? Visit the ' +\n",
              "          '<a target=\"_blank\" href=https://colab.research.google.com/notebooks/data_table.ipynb>data table notebook</a>'\n",
              "          + ' to learn more about interactive tables.';\n",
              "        element.innerHTML = '';\n",
              "        dataTable['output_type'] = 'display_data';\n",
              "        await google.colab.output.renderOutput(dataTable, element);\n",
              "        const docLink = document.createElement('div');\n",
              "        docLink.innerHTML = docLinkHtml;\n",
              "        element.appendChild(docLink);\n",
              "      }\n",
              "    </script>\n",
              "  </div>\n",
              "\n",
              "\n",
              "<div id=\"df-952bdadc-b999-41a6-aa65-e1a0d32f9129\">\n",
              "  <button class=\"colab-df-quickchart\" onclick=\"quickchart('df-952bdadc-b999-41a6-aa65-e1a0d32f9129')\"\n",
              "            title=\"Suggest charts\"\n",
              "            style=\"display:none;\">\n",
              "\n",
              "<svg xmlns=\"http://www.w3.org/2000/svg\" height=\"24px\"viewBox=\"0 0 24 24\"\n",
              "     width=\"24px\">\n",
              "    <g>\n",
              "        <path d=\"M19 3H5c-1.1 0-2 .9-2 2v14c0 1.1.9 2 2 2h14c1.1 0 2-.9 2-2V5c0-1.1-.9-2-2-2zM9 17H7v-7h2v7zm4 0h-2V7h2v10zm4 0h-2v-4h2v4z\"/>\n",
              "    </g>\n",
              "</svg>\n",
              "  </button>\n",
              "\n",
              "<style>\n",
              "  .colab-df-quickchart {\n",
              "      --bg-color: #E8F0FE;\n",
              "      --fill-color: #1967D2;\n",
              "      --hover-bg-color: #E2EBFA;\n",
              "      --hover-fill-color: #174EA6;\n",
              "      --disabled-fill-color: #AAA;\n",
              "      --disabled-bg-color: #DDD;\n",
              "  }\n",
              "\n",
              "  [theme=dark] .colab-df-quickchart {\n",
              "      --bg-color: #3B4455;\n",
              "      --fill-color: #D2E3FC;\n",
              "      --hover-bg-color: #434B5C;\n",
              "      --hover-fill-color: #FFFFFF;\n",
              "      --disabled-bg-color: #3B4455;\n",
              "      --disabled-fill-color: #666;\n",
              "  }\n",
              "\n",
              "  .colab-df-quickchart {\n",
              "    background-color: var(--bg-color);\n",
              "    border: none;\n",
              "    border-radius: 50%;\n",
              "    cursor: pointer;\n",
              "    display: none;\n",
              "    fill: var(--fill-color);\n",
              "    height: 32px;\n",
              "    padding: 0;\n",
              "    width: 32px;\n",
              "  }\n",
              "\n",
              "  .colab-df-quickchart:hover {\n",
              "    background-color: var(--hover-bg-color);\n",
              "    box-shadow: 0 1px 2px rgba(60, 64, 67, 0.3), 0 1px 3px 1px rgba(60, 64, 67, 0.15);\n",
              "    fill: var(--button-hover-fill-color);\n",
              "  }\n",
              "\n",
              "  .colab-df-quickchart-complete:disabled,\n",
              "  .colab-df-quickchart-complete:disabled:hover {\n",
              "    background-color: var(--disabled-bg-color);\n",
              "    fill: var(--disabled-fill-color);\n",
              "    box-shadow: none;\n",
              "  }\n",
              "\n",
              "  .colab-df-spinner {\n",
              "    border: 2px solid var(--fill-color);\n",
              "    border-color: transparent;\n",
              "    border-bottom-color: var(--fill-color);\n",
              "    animation:\n",
              "      spin 1s steps(1) infinite;\n",
              "  }\n",
              "\n",
              "  @keyframes spin {\n",
              "    0% {\n",
              "      border-color: transparent;\n",
              "      border-bottom-color: var(--fill-color);\n",
              "      border-left-color: var(--fill-color);\n",
              "    }\n",
              "    20% {\n",
              "      border-color: transparent;\n",
              "      border-left-color: var(--fill-color);\n",
              "      border-top-color: var(--fill-color);\n",
              "    }\n",
              "    30% {\n",
              "      border-color: transparent;\n",
              "      border-left-color: var(--fill-color);\n",
              "      border-top-color: var(--fill-color);\n",
              "      border-right-color: var(--fill-color);\n",
              "    }\n",
              "    40% {\n",
              "      border-color: transparent;\n",
              "      border-right-color: var(--fill-color);\n",
              "      border-top-color: var(--fill-color);\n",
              "    }\n",
              "    60% {\n",
              "      border-color: transparent;\n",
              "      border-right-color: var(--fill-color);\n",
              "    }\n",
              "    80% {\n",
              "      border-color: transparent;\n",
              "      border-right-color: var(--fill-color);\n",
              "      border-bottom-color: var(--fill-color);\n",
              "    }\n",
              "    90% {\n",
              "      border-color: transparent;\n",
              "      border-bottom-color: var(--fill-color);\n",
              "    }\n",
              "  }\n",
              "</style>\n",
              "\n",
              "  <script>\n",
              "    async function quickchart(key) {\n",
              "      const quickchartButtonEl =\n",
              "        document.querySelector('#' + key + ' button');\n",
              "      quickchartButtonEl.disabled = true;  // To prevent multiple clicks.\n",
              "      quickchartButtonEl.classList.add('colab-df-spinner');\n",
              "      try {\n",
              "        const charts = await google.colab.kernel.invokeFunction(\n",
              "            'suggestCharts', [key], {});\n",
              "      } catch (error) {\n",
              "        console.error('Error during call to suggestCharts:', error);\n",
              "      }\n",
              "      quickchartButtonEl.classList.remove('colab-df-spinner');\n",
              "      quickchartButtonEl.classList.add('colab-df-quickchart-complete');\n",
              "    }\n",
              "    (() => {\n",
              "      let quickchartButtonEl =\n",
              "        document.querySelector('#df-952bdadc-b999-41a6-aa65-e1a0d32f9129 button');\n",
              "      quickchartButtonEl.style.display =\n",
              "        google.colab.kernel.accessAllowed ? 'block' : 'none';\n",
              "    })();\n",
              "  </script>\n",
              "</div>\n",
              "\n",
              "    </div>\n",
              "  </div>\n"
            ]
          },
          "metadata": {},
          "execution_count": 3
        }
      ]
    },
    {
      "cell_type": "code",
      "source": [
        "original_df[\"date_from_utc\"] = pd.to_datetime(original_df.utc_date_time , unit='s')\n",
        "original_df[\"full_date\"] = original_df[\"date_from_utc\"].dt.date\n",
        "original_df[\"year\"] = original_df[\"date_from_utc\"].dt.year\n",
        "original_df[\"month\"] = original_df[\"date_from_utc\"].dt.month\n",
        "original_df[\"day\"] = original_df[\"date_from_utc\"].dt.day\n",
        "original_df[\"hour\"] = original_df[\"date_from_utc\"].dt.hour\n",
        "original_df[\"minute\"] = original_df[\"date_from_utc\"].dt.minute\n",
        "original_df[\"second\"] = original_df[\"date_from_utc\"].dt.second"
      ],
      "metadata": {
        "id": "_XlQoY0TqSwE"
      },
      "execution_count": 4,
      "outputs": []
    },
    {
      "cell_type": "code",
      "source": [
        "print( original_df.shape)"
      ],
      "metadata": {
        "id": "eV2TGz9iqTYc",
        "colab": {
          "base_uri": "https://localhost:8080/"
        },
        "outputId": "493e9b63-6134-49d4-d8a5-18f6c6d44402"
      },
      "execution_count": 5,
      "outputs": [
        {
          "output_type": "stream",
          "name": "stdout",
          "text": [
            "(419622, 17)\n"
          ]
        }
      ]
    },
    {
      "cell_type": "code",
      "source": [
        "read_df= original_df[ original_df.metric_name==\"aerospike_namespace_client_read_success\"]\n",
        "read_df= read_df[ read_df.sub_query_name==\"simple_query\"]\n",
        "# pick up only ssd namespace\n",
        "read_df= read_df[ read_df.ns==\"ssd\" ]\n",
        "# read_df= read_df[ (read_df.ns==\"ssd\") & (read_df.service==\"192.168.201.241:3000\")]\n",
        "read_df.shape"
      ],
      "metadata": {
        "id": "3ERffr1uqW4F",
        "colab": {
          "base_uri": "https://localhost:8080/"
        },
        "outputId": "38326113-a1a0-4e07-f2cd-32d6a7f65a39"
      },
      "execution_count": 6,
      "outputs": [
        {
          "output_type": "execute_result",
          "data": {
            "text/plain": [
              "(69946, 17)"
            ]
          },
          "metadata": {},
          "execution_count": 6
        }
      ]
    },
    {
      "cell_type": "code",
      "source": [
        "read_df= read_df[ read_df.service==\"192.168.201.241:3000\"]\n",
        "read_df.shape"
      ],
      "metadata": {
        "id": "t9q1IYDPqY_a",
        "colab": {
          "base_uri": "https://localhost:8080/"
        },
        "outputId": "704cac6d-8f00-46bd-aba0-35c728811062"
      },
      "execution_count": 7,
      "outputs": [
        {
          "output_type": "execute_result",
          "data": {
            "text/plain": [
              "(23315, 17)"
            ]
          },
          "metadata": {},
          "execution_count": 7
        }
      ]
    },
    {
      "cell_type": "code",
      "source": [
        "print(read_df[\"service\"].unique())\n",
        "print(read_df[\"ns\"].unique())\n",
        "print(read_df[\"cluster_name\"].unique())\n",
        "print(read_df[\"metric_name\"].unique())"
      ],
      "metadata": {
        "id": "DAtfuVd7qdWy",
        "colab": {
          "base_uri": "https://localhost:8080/"
        },
        "outputId": "5943ddcf-6b25-45a0-cf9e-7d14fad6e78e"
      },
      "execution_count": 8,
      "outputs": [
        {
          "output_type": "stream",
          "name": "stdout",
          "text": [
            "['192.168.201.241:3000']\n",
            "['ssd']\n",
            "['numa']\n",
            "['aerospike_namespace_client_read_success']\n"
          ]
        }
      ]
    },
    {
      "cell_type": "code",
      "source": [
        "read_df_len = len(read_df)\n",
        "\n",
        "train_size = int(read_df_len * 0.8)\n",
        "\n",
        "# 80% as train and 20% as test\n",
        "#\n",
        "train_read_df = read_df[:train_size]\n",
        "test_df = read_df.iloc[train_size:]\n",
        "\n",
        "print( \"len(read_df_len)   ==> \",len(read_df))\n",
        "print( \"len(train_read_df) ==> \", len(train_read_df) )\n",
        "print( \"len(test_df)       ==> \", len(test_df) )"
      ],
      "metadata": {
        "colab": {
          "base_uri": "https://localhost:8080/"
        },
        "id": "1etf3HGv_2J_",
        "outputId": "45e5107b-d6e8-4f91-d1b6-bdb8a43b0af8"
      },
      "execution_count": 14,
      "outputs": [
        {
          "output_type": "stream",
          "name": "stdout",
          "text": [
            "len(read_df_len)   ==>  23315\n",
            "len(train_read_df) ==>  18652\n",
            "len(test_df)       ==>  4663\n"
          ]
        }
      ]
    },
    {
      "cell_type": "code",
      "source": [
        "# read_df[\"full_date\", \"metric_value\"].plot()\n",
        "prophet_read_df = train_read_df[ [\"date_from_utc\", \"metric_value\"] ].copy()\n",
        "prophet_read_df['date_from_utc'] = pd.to_datetime(prophet_read_df['date_from_utc'], format='%Y-%m-%d %H:%M:%S')"
      ],
      "metadata": {
        "id": "aR0IuDgYqd7Y"
      },
      "execution_count": null,
      "outputs": []
    },
    {
      "cell_type": "code",
      "source": [
        "prophet_read_df.rename(columns={\"date_from_utc\": \"ds\", \"metric_value\": \"y\"}, inplace=True)\n",
        "prophet_read_df=prophet_read_df.reindex()\n",
        "prophet_read_df.info()"
      ],
      "metadata": {
        "id": "L2GcmgShqgF3"
      },
      "execution_count": null,
      "outputs": []
    },
    {
      "cell_type": "code",
      "source": [
        "l_sort_column_names = [\"ds\"]\n",
        "prophet_read_df.sort_values(by= l_sort_column_names, ascending = True)"
      ],
      "metadata": {
        "id": "7CADtPmPqgNl"
      },
      "execution_count": null,
      "outputs": []
    },
    {
      "cell_type": "code",
      "source": [
        "# Removing duplicates in the original DataFrame\n",
        "prophet_read_df.drop_duplicates(subset=\"ds\", inplace=True)\n"
      ],
      "metadata": {
        "id": "9mO_BLYkqk9L"
      },
      "execution_count": null,
      "outputs": []
    },
    {
      "cell_type": "code",
      "source": [
        "prophet_read_df.plot()"
      ],
      "metadata": {
        "id": "Tyx4XanJqnHp"
      },
      "execution_count": null,
      "outputs": []
    },
    {
      "cell_type": "code",
      "source": [
        "# df['date_from_utc'] = pd.to_datetime(df['date_from_utc'])\n",
        "\n",
        "# Plotting a line graph\n",
        "plt.figure(figsize=(10, 6))  # Set figure size as needed\n",
        "\n",
        "plt.plot(prophet_read_df['ds'], prophet_read_df['y'], color='blue', marker='o', linestyle='-')\n",
        "\n",
        "# plt.xlabel('Timestamp')\n",
        "plt.ylabel('Value')\n",
        "plt.title('Minute-wise Line Graph')\n",
        "plt.xticks(rotation=45)  # Rotate x-axis labels for better readability if needed\n",
        "plt.tight_layout()  # Adjusts plot to fit into the figure area\n",
        "plt.show()"
      ],
      "metadata": {
        "id": "rnvOBcGcqnkd"
      },
      "execution_count": null,
      "outputs": []
    },
    {
      "cell_type": "code",
      "source": [
        "# Plotting a line graph\n",
        "plt.figure(figsize=(10, 6))  # Set figure size as needed\n",
        "\n",
        "single_day_df = train_read_df [ train_read_df.day == 15 ]\n",
        "\n",
        "single_day_df = single_day_df[ [\"date_from_utc\", \"metric_value\"] ].copy()\n",
        "single_day_df.rename(columns={\"date_from_utc\": \"ds\", \"metric_value\": \"y\"}, inplace=True)\n",
        "single_day_df.info()\n",
        "\n",
        "# plt.plot(single_day_df['ds'], single_day_df['y'], color='green', marker='o', linestyle='--')\n",
        "plt.bar (single_day_df['ds'], single_day_df['y'], )\n",
        "\n",
        "\n",
        "plt.xlabel('Timestamp')\n",
        "plt.ylabel('Value')\n",
        "plt.title('Minute-wise Line Graph')\n",
        "# plt.xticks(rotation=45)  # Rotate x-axis labels for better readability if needed\n",
        "plt.tight_layout()  # Adjusts plot to fit into the figure area\n",
        "plt.show()"
      ],
      "metadata": {
        "id": "OzaqFkNIqqYA"
      },
      "execution_count": null,
      "outputs": []
    },
    {
      "cell_type": "code",
      "source": [],
      "metadata": {
        "id": "EtK6_TjKqqf8"
      },
      "execution_count": null,
      "outputs": []
    },
    {
      "cell_type": "code",
      "source": [
        "m = Prophet()\n",
        "# m= Prophet( interval_width=0.9, yearly_seasonality=True, weekly_seasonality=True, daily_seasonality=True )\n",
        "m.fit(prophet_read_df)"
      ],
      "metadata": {
        "id": "XrqpXehNqvqI"
      },
      "execution_count": null,
      "outputs": []
    },
    {
      "cell_type": "code",
      "source": [
        "# 1440 = 24 * 60 minutes\n",
        "\n",
        "#\n",
        "# future = m.make_future_dataframe(periods= 1440, freq=\"T\", include_history=True)\n",
        "# future.tail()"
      ],
      "metadata": {
        "id": "TvltNUThqv1E"
      },
      "execution_count": null,
      "outputs": []
    },
    {
      "cell_type": "code",
      "source": [
        "# forecast = m.predict(future)\n",
        "#\n",
        "# only for anamoly\n",
        "forecast = m.predict( prophet_read_df)\n",
        "forecast[['ds', 'yhat', 'yhat_lower', 'yhat_upper']].tail()\n",
        "forecast.info()"
      ],
      "metadata": {
        "id": "Bnoo-dr_qv7b"
      },
      "execution_count": null,
      "outputs": []
    },
    {
      "cell_type": "code",
      "source": [
        "pd.concat( [prophet_read_df.set_index(\"ds\")[\"y\"],  forecast.set_index(\"ds\")[\"yhat\"]], axis=1).plot()"
      ],
      "metadata": {
        "id": "iHThRTETqv_W"
      },
      "execution_count": null,
      "outputs": []
    },
    {
      "cell_type": "code",
      "source": [
        "# merge original and forecasted\n",
        "#\n",
        "merged_df = pd.merge( prophet_read_df, forecast[[\"ds\", \"yhat\",\"yhat_lower\",\"yhat_upper\"]], on=\"ds\" )"
      ],
      "metadata": {
        "id": "_sW4CEukqwDV"
      },
      "execution_count": null,
      "outputs": []
    },
    {
      "cell_type": "code",
      "source": [
        "merged_df.to_csv(\"prophet_forecasted.csv\")"
      ],
      "metadata": {
        "id": "xEeyD2iwq6LI"
      },
      "execution_count": null,
      "outputs": []
    },
    {
      "cell_type": "code",
      "source": [
        "figure_1 = m.plot(forecast)\n"
      ],
      "metadata": {
        "id": "WGlQ5iQMq6RM"
      },
      "execution_count": null,
      "outputs": []
    },
    {
      "cell_type": "code",
      "source": [
        "figure_2 = m.plot_components(forecast)"
      ],
      "metadata": {
        "id": "m2MrNs2eq6YY"
      },
      "execution_count": null,
      "outputs": []
    },
    {
      "cell_type": "code",
      "source": [
        "plot_plotly(m, forecast)"
      ],
      "metadata": {
        "id": "wt1ctZx8q_x6"
      },
      "execution_count": null,
      "outputs": []
    },
    {
      "cell_type": "code",
      "source": [
        "fig_change_points = add_changepoints_to_plot ( figure_1.gca(), m, forecast)\n",
        "figure_1"
      ],
      "metadata": {
        "id": "4Yf8A4nMq_3Q"
      },
      "execution_count": null,
      "outputs": []
    },
    {
      "cell_type": "code",
      "source": [
        "# error and metrics\n",
        "perf_mae = mean_absolute_error(merged_df['y'], merged_df['yhat'])\n",
        "print (\"mae \", perf_mae)\n",
        "perf_mape = mean_absolute_percentage_error(merged_df['y'], merged_df['yhat'])\n",
        "print(\"mape \" , perf_mape )"
      ],
      "metadata": {
        "id": "gtpenGqsq_7b"
      },
      "execution_count": null,
      "outputs": []
    },
    {
      "cell_type": "markdown",
      "source": [],
      "metadata": {
        "id": "7ycCPvMvrLHq"
      }
    },
    {
      "cell_type": "code",
      "source": [
        "merged_df[\"anomaly\"] = merged_df.apply(lambda rows: 1 if ((rows.y<rows.yhat_lower)|(rows.y>rows.yhat_upper)) else 0, axis = 1)\n",
        "\n",
        "# Check the number of anomalies\n",
        "merged_df[\"anomaly\"].value_counts()"
      ],
      "metadata": {
        "id": "7xuFJg0Zq__G"
      },
      "execution_count": null,
      "outputs": []
    },
    {
      "cell_type": "code",
      "source": [
        "anomalies_df = merged_df[ merged_df[\"anomaly\"]==1].sort_values(by='ds')\n",
        "anomalies_df.head(100)"
      ],
      "metadata": {
        "id": "ge6lhg1crMhu"
      },
      "execution_count": null,
      "outputs": []
    },
    {
      "cell_type": "code",
      "source": [
        "# Visualize the anomalies\n",
        "plt.figure(figsize=(10, 6))\n",
        "sns.scatterplot(x=\"ds\", y=\"y\", data=merged_df, hue=\"anomaly\")\n",
        "sns.lineplot(x=\"ds\", y=\"yhat\", data=merged_df, color=\"black\")"
      ],
      "metadata": {
        "id": "DjUm9hIHrMuy"
      },
      "execution_count": null,
      "outputs": []
    },
    {
      "cell_type": "code",
      "source": [
        "# Calculate residuals (difference between actual and predicted values)\n",
        "merged_df['residuals'] = merged_df['y'] - merged_df['yhat']\n",
        "\n",
        "merged_df.info()\n",
        "\n",
        "# single_merged_df =\n"
      ],
      "metadata": {
        "id": "5NipMet_rMz1"
      },
      "execution_count": null,
      "outputs": []
    },
    {
      "cell_type": "code",
      "source": [
        "# Calculate mean and standard deviation of residuals\n",
        "mean_residual = merged_df['residuals'].mean()\n",
        "std_residual = merged_df['residuals'].std()\n",
        "\n",
        "# Set a threshold for anomalies (e.g., 3 standard deviations)\n",
        "threshold = 3 * std_residual\n",
        "\n",
        "# Identify anomalies\n",
        "anomalies = merged_df[np.abs(merged_df['residuals'] - mean_residual) > threshold]\n",
        "\n",
        "# Plotting the data and anomalies\n",
        "plt.figure(figsize=(10, 6))\n",
        "plt.plot(merged_df['ds'], merged_df['y'], label='Original Data')\n",
        "plt.scatter(anomalies['ds'], anomalies['y'], color='red', label='Anomalies')\n",
        "plt.legend()\n",
        "plt.xlabel('Timestamp')\n",
        "plt.ylabel('Value')\n",
        "plt.title('Anomaly Detection with Prophet')\n",
        "plt.show()"
      ],
      "metadata": {
        "id": "hSvqsVqUrVuI"
      },
      "execution_count": null,
      "outputs": []
    },
    {
      "cell_type": "code",
      "source": [
        "perf_cv = cross_validation(m, initial='6 days', period='2 days', horizon = '1 days')"
      ],
      "metadata": {
        "id": "Rsr5aH9nrV23"
      },
      "execution_count": null,
      "outputs": []
    },
    {
      "cell_type": "code",
      "source": [
        "perf_cv_metrics = performance_metrics( perf_cv)\n",
        "perf_cv_metrics.info()\n",
        "\n",
        "perf_cv_metrics"
      ],
      "metadata": {
        "id": "uSJA_tBwrV-h"
      },
      "execution_count": null,
      "outputs": []
    },
    {
      "cell_type": "code",
      "source": [
        "fig = plot_cross_validation_metric(perf_cv, metric='mape')"
      ],
      "metadata": {
        "id": "Wa6XB-c0reWD"
      },
      "execution_count": null,
      "outputs": []
    }
  ]
}