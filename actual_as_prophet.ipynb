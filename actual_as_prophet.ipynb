{
  "nbformat": 4,
  "nbformat_minor": 0,
  "metadata": {
    "colab": {
      "provenance": [],
      "authorship_tag": "ABX9TyMAYtqa561oYAbwdJhevXP/",
      "include_colab_link": true
    },
    "kernelspec": {
      "name": "python3",
      "display_name": "Python 3"
    },
    "language_info": {
      "name": "python"
    }
  },
  "cells": [
    {
      "cell_type": "markdown",
      "metadata": {
        "id": "view-in-github",
        "colab_type": "text"
      },
      "source": [
        "<a href=\"https://colab.research.google.com/github/mphani/ts_prophet/blob/works/actual_as_prophet.ipynb\" target=\"_parent\"><img src=\"https://colab.research.google.com/assets/colab-badge.svg\" alt=\"Open In Colab\"/></a>"
      ]
    },
    {
      "cell_type": "code",
      "execution_count": null,
      "metadata": {
        "id": "XVmHaKUvmQkQ"
      },
      "outputs": [],
      "source": [
        "import pandas as pd\n",
        "import seaborn as sns\n",
        "import numpy as np\n",
        "import matplotlib.pyplot as plt\n",
        "from tabulate import tabulate\n",
        "\n",
        "from prophet import Prophet\n",
        "from prophet.diagnostics import cross_validation\n",
        "from prophet.diagnostics import performance_metrics\n",
        "from sklearn.metrics import mean_absolute_error\n",
        "from sklearn.metrics import mean_absolute_percentage_error\n",
        "from prophet.plot import plot_plotly, plot_components_plotly\n",
        "\n",
        "from prophet.plot import add_changepoints_to_plot, plot_cross_validation_metric\n"
      ]
    },
    {
      "cell_type": "code",
      "source": [
        "G_FILENAME = \"sample_data/24122023_aerospike_stats.csv\""
      ],
      "metadata": {
        "id": "kl0RA3C7mfPX"
      },
      "execution_count": null,
      "outputs": []
    },
    {
      "cell_type": "code",
      "source": [
        "original_df = pd.read_csv(G_FILENAME)\n",
        "original_df.head()"
      ],
      "metadata": {
        "id": "kujGaOo5mhaL"
      },
      "execution_count": null,
      "outputs": []
    },
    {
      "cell_type": "code",
      "source": [
        "original_df[\"date_from_utc\"] = pd.to_datetime(original_df.utc_date_time , unit='s')\n",
        "original_df[\"full_date\"] = original_df[\"date_from_utc\"].dt.date\n",
        "original_df[\"year\"] = original_df[\"date_from_utc\"].dt.year\n",
        "original_df[\"month\"] = original_df[\"date_from_utc\"].dt.month\n",
        "original_df[\"day\"] = original_df[\"date_from_utc\"].dt.day\n",
        "original_df[\"hour\"] = original_df[\"date_from_utc\"].dt.hour\n",
        "original_df[\"minute\"] = original_df[\"date_from_utc\"].dt.minute\n",
        "original_df[\"second\"] = original_df[\"date_from_utc\"].dt.second"
      ],
      "metadata": {
        "id": "_XlQoY0TqSwE"
      },
      "execution_count": null,
      "outputs": []
    },
    {
      "cell_type": "code",
      "source": [
        "print( original_df.shape)"
      ],
      "metadata": {
        "id": "eV2TGz9iqTYc"
      },
      "execution_count": null,
      "outputs": []
    },
    {
      "cell_type": "code",
      "source": [
        "read_df= original_df[ original_df.metric_name==\"aerospike_namespace_client_read_success\"]\n",
        "read_df= read_df[ read_df.sub_query_name==\"simple_query\"]\n",
        "# pick up only ssd namespace\n",
        "read_df= read_df[ read_df.ns==\"ssd\" ]\n",
        "# read_df= read_df[ (read_df.ns==\"ssd\") & (read_df.service==\"192.168.201.241:3000\")]\n",
        "read_df.shape"
      ],
      "metadata": {
        "id": "3ERffr1uqW4F"
      },
      "execution_count": null,
      "outputs": []
    },
    {
      "cell_type": "code",
      "source": [
        "read_df= read_df[ read_df.service==\"192.168.201.241:3000\"]\n",
        "read_df.shape"
      ],
      "metadata": {
        "id": "t9q1IYDPqY_a"
      },
      "execution_count": null,
      "outputs": []
    },
    {
      "cell_type": "code",
      "source": [
        "print(read_df[\"service\"].unique())\n",
        "print(read_df[\"ns\"].unique())\n",
        "print(read_df[\"cluster_name\"].unique())\n",
        "print(read_df[\"metric_name\"].unique())\n"
      ],
      "metadata": {
        "id": "DAtfuVd7qdWy"
      },
      "execution_count": null,
      "outputs": []
    },
    {
      "cell_type": "code",
      "source": [
        "# read_df[\"full_date\", \"metric_value\"].plot()\n",
        "prophet_read_df = read_df[ [\"date_from_utc\", \"metric_value\"] ].copy()\n",
        "prophet_read_df['date_from_utc'] = pd.to_datetime(prophet_read_df['date_from_utc'], format='%Y-%m-%d %H:%M:%S')"
      ],
      "metadata": {
        "id": "aR0IuDgYqd7Y"
      },
      "execution_count": null,
      "outputs": []
    },
    {
      "cell_type": "code",
      "source": [
        "prophet_read_df.rename(columns={\"date_from_utc\": \"ds\", \"metric_value\": \"y\"}, inplace=True)\n",
        "prophet_read_df=prophet_read_df.reindex()\n",
        "prophet_read_df.info()"
      ],
      "metadata": {
        "id": "L2GcmgShqgF3"
      },
      "execution_count": null,
      "outputs": []
    },
    {
      "cell_type": "code",
      "source": [
        "l_sort_column_names = [\"ds\"]\n",
        "prophet_read_df.sort_values(by= l_sort_column_names, ascending = True)"
      ],
      "metadata": {
        "id": "7CADtPmPqgNl"
      },
      "execution_count": null,
      "outputs": []
    },
    {
      "cell_type": "code",
      "source": [
        "# Removing duplicates in the original DataFrame\n",
        "prophet_read_df.drop_duplicates(subset=\"ds\", inplace=True)\n"
      ],
      "metadata": {
        "id": "9mO_BLYkqk9L"
      },
      "execution_count": null,
      "outputs": []
    },
    {
      "cell_type": "code",
      "source": [
        "prophet_read_df.plot()"
      ],
      "metadata": {
        "id": "Tyx4XanJqnHp"
      },
      "execution_count": null,
      "outputs": []
    },
    {
      "cell_type": "code",
      "source": [
        "# df['date_from_utc'] = pd.to_datetime(df['date_from_utc'])\n",
        "\n",
        "# Plotting a line graph\n",
        "plt.figure(figsize=(10, 6))  # Set figure size as needed\n",
        "\n",
        "plt.plot(prophet_read_df['ds'], prophet_read_df['y'], color='blue', marker='o', linestyle='-')\n",
        "\n",
        "# plt.xlabel('Timestamp')\n",
        "plt.ylabel('Value')\n",
        "plt.title('Minute-wise Line Graph')\n",
        "plt.xticks(rotation=45)  # Rotate x-axis labels for better readability if needed\n",
        "plt.tight_layout()  # Adjusts plot to fit into the figure area\n",
        "plt.show()"
      ],
      "metadata": {
        "id": "rnvOBcGcqnkd"
      },
      "execution_count": null,
      "outputs": []
    },
    {
      "cell_type": "code",
      "source": [
        "# Plotting a line graph\n",
        "plt.figure(figsize=(10, 6))  # Set figure size as needed\n",
        "\n",
        "single_day_df = read_df [ read_df.day == 15 ]\n",
        "\n",
        "single_day_df = single_day_df[ [\"date_from_utc\", \"metric_value\"] ].copy()\n",
        "single_day_df.rename(columns={\"date_from_utc\": \"ds\", \"metric_value\": \"y\"}, inplace=True)\n",
        "single_day_df.info()\n",
        "\n",
        "# plt.plot(single_day_df['ds'], single_day_df['y'], color='green', marker='o', linestyle='--')\n",
        "plt.bar (single_day_df['ds'], single_day_df['y'], )\n",
        "\n",
        "\n",
        "plt.xlabel('Timestamp')\n",
        "plt.ylabel('Value')\n",
        "plt.title('Minute-wise Line Graph')\n",
        "# plt.xticks(rotation=45)  # Rotate x-axis labels for better readability if needed\n",
        "plt.tight_layout()  # Adjusts plot to fit into the figure area\n",
        "plt.show()"
      ],
      "metadata": {
        "id": "OzaqFkNIqqYA"
      },
      "execution_count": null,
      "outputs": []
    },
    {
      "cell_type": "code",
      "source": [],
      "metadata": {
        "id": "EtK6_TjKqqf8"
      },
      "execution_count": null,
      "outputs": []
    },
    {
      "cell_type": "code",
      "source": [
        "m = Prophet()\n",
        "# m= Prophet( interval_width=0.9, yearly_seasonality=True, weekly_seasonality=True, daily_seasonality=True )\n",
        "m.fit(prophet_read_df)"
      ],
      "metadata": {
        "id": "XrqpXehNqvqI"
      },
      "execution_count": null,
      "outputs": []
    },
    {
      "cell_type": "code",
      "source": [
        "# 1440 = 24 * 60 minutes\n",
        "\n",
        "#\n",
        "# future = m.make_future_dataframe(periods= 1440, freq=\"T\", include_history=True)\n",
        "# future.tail()"
      ],
      "metadata": {
        "id": "TvltNUThqv1E"
      },
      "execution_count": null,
      "outputs": []
    },
    {
      "cell_type": "code",
      "source": [
        "# forecast = m.predict(future)\n",
        "#\n",
        "# only for anamoly\n",
        "forecast = m.predict( prophet_read_df)\n",
        "forecast[['ds', 'yhat', 'yhat_lower', 'yhat_upper']].tail()\n",
        "forecast.info()"
      ],
      "metadata": {
        "id": "Bnoo-dr_qv7b"
      },
      "execution_count": null,
      "outputs": []
    },
    {
      "cell_type": "code",
      "source": [
        "pd.concat( [prophet_read_df.set_index(\"ds\")[\"y\"],  forecast.set_index(\"ds\")[\"yhat\"]], axis=1).plot()"
      ],
      "metadata": {
        "id": "iHThRTETqv_W"
      },
      "execution_count": null,
      "outputs": []
    },
    {
      "cell_type": "code",
      "source": [
        "# merge original and forecasted\n",
        "#\n",
        "merged_df = pd.merge( prophet_read_df, forecast[[\"ds\", \"yhat\",\"yhat_lower\",\"yhat_upper\"]], on=\"ds\" )"
      ],
      "metadata": {
        "id": "_sW4CEukqwDV"
      },
      "execution_count": null,
      "outputs": []
    },
    {
      "cell_type": "code",
      "source": [
        "merged_df.to_csv(\"prophet_forecasted.csv\")"
      ],
      "metadata": {
        "id": "xEeyD2iwq6LI"
      },
      "execution_count": null,
      "outputs": []
    },
    {
      "cell_type": "code",
      "source": [
        "figure_1 = m.plot(forecast)\n"
      ],
      "metadata": {
        "id": "WGlQ5iQMq6RM"
      },
      "execution_count": null,
      "outputs": []
    },
    {
      "cell_type": "code",
      "source": [
        "figure_2 = m.plot_components(forecast)"
      ],
      "metadata": {
        "id": "m2MrNs2eq6YY"
      },
      "execution_count": null,
      "outputs": []
    },
    {
      "cell_type": "code",
      "source": [
        "plot_plotly(m, forecast)"
      ],
      "metadata": {
        "id": "wt1ctZx8q_x6"
      },
      "execution_count": null,
      "outputs": []
    },
    {
      "cell_type": "code",
      "source": [
        "fig_change_points = add_changepoints_to_plot ( figure_1.gca(), m, forecast)\n",
        "figure_1"
      ],
      "metadata": {
        "id": "4Yf8A4nMq_3Q"
      },
      "execution_count": null,
      "outputs": []
    },
    {
      "cell_type": "code",
      "source": [
        "# error and metrics\n",
        "perf_mae = mean_absolute_error(merged_df['y'], merged_df['yhat'])\n",
        "print (\"mae \", perf_mae)\n",
        "perf_mape = mean_absolute_percentage_error(merged_df['y'], merged_df['yhat'])\n",
        "print(\"mape \" , perf_mape )"
      ],
      "metadata": {
        "id": "gtpenGqsq_7b"
      },
      "execution_count": null,
      "outputs": []
    },
    {
      "cell_type": "markdown",
      "source": [],
      "metadata": {
        "id": "7ycCPvMvrLHq"
      }
    },
    {
      "cell_type": "code",
      "source": [
        "merged_df[\"anomaly\"] = merged_df.apply(lambda rows: 1 if ((rows.y<rows.yhat_lower)|(rows.y>rows.yhat_upper)) else 0, axis = 1)\n",
        "\n",
        "# Check the number of anomalies\n",
        "merged_df[\"anomaly\"].value_counts()"
      ],
      "metadata": {
        "id": "7xuFJg0Zq__G"
      },
      "execution_count": null,
      "outputs": []
    },
    {
      "cell_type": "code",
      "source": [
        "anomalies_df = merged_df[ merged_df[\"anomaly\"]==1].sort_values(by='ds')\n",
        "anomalies_df.head(100)"
      ],
      "metadata": {
        "id": "ge6lhg1crMhu"
      },
      "execution_count": null,
      "outputs": []
    },
    {
      "cell_type": "code",
      "source": [
        "# Visualize the anomalies\n",
        "plt.figure(figsize=(10, 6))\n",
        "sns.scatterplot(x=\"ds\", y=\"y\", data=merged_df, hue=\"anomaly\")\n",
        "sns.lineplot(x=\"ds\", y=\"yhat\", data=merged_df, color=\"black\")"
      ],
      "metadata": {
        "id": "DjUm9hIHrMuy"
      },
      "execution_count": null,
      "outputs": []
    },
    {
      "cell_type": "code",
      "source": [
        "# Calculate residuals (difference between actual and predicted values)\n",
        "merged_df['residuals'] = merged_df['y'] - merged_df['yhat']\n",
        "\n",
        "merged_df.info()\n",
        "\n",
        "# single_merged_df =\n"
      ],
      "metadata": {
        "id": "5NipMet_rMz1"
      },
      "execution_count": null,
      "outputs": []
    },
    {
      "cell_type": "code",
      "source": [
        "# Calculate mean and standard deviation of residuals\n",
        "mean_residual = merged_df['residuals'].mean()\n",
        "std_residual = merged_df['residuals'].std()\n",
        "\n",
        "# Set a threshold for anomalies (e.g., 3 standard deviations)\n",
        "threshold = 3 * std_residual\n",
        "\n",
        "# Identify anomalies\n",
        "anomalies = merged_df[np.abs(merged_df['residuals'] - mean_residual) > threshold]\n",
        "\n",
        "# Plotting the data and anomalies\n",
        "plt.figure(figsize=(10, 6))\n",
        "plt.plot(merged_df['ds'], merged_df['y'], label='Original Data')\n",
        "plt.scatter(anomalies['ds'], anomalies['y'], color='red', label='Anomalies')\n",
        "plt.legend()\n",
        "plt.xlabel('Timestamp')\n",
        "plt.ylabel('Value')\n",
        "plt.title('Anomaly Detection with Prophet')\n",
        "plt.show()"
      ],
      "metadata": {
        "id": "hSvqsVqUrVuI"
      },
      "execution_count": null,
      "outputs": []
    },
    {
      "cell_type": "code",
      "source": [
        "perf_cv = cross_validation(m, initial='6 days', period='2 days', horizon = '1 days')"
      ],
      "metadata": {
        "id": "Rsr5aH9nrV23"
      },
      "execution_count": null,
      "outputs": []
    },
    {
      "cell_type": "code",
      "source": [
        "perf_cv_metrics = performance_metrics( perf_cv)\n",
        "perf_cv_metrics.info()\n",
        "\n",
        "perf_cv_metrics"
      ],
      "metadata": {
        "id": "uSJA_tBwrV-h"
      },
      "execution_count": null,
      "outputs": []
    },
    {
      "cell_type": "code",
      "source": [
        "fig = plot_cross_validation_metric(perf_cv, metric='mape')"
      ],
      "metadata": {
        "id": "Wa6XB-c0reWD"
      },
      "execution_count": null,
      "outputs": []
    }
  ]
}